{
 "cells": [
  {
   "metadata": {},
   "cell_type": "markdown",
   "source": "# Linear Regression ( from scratch )",
   "id": "f2c7334857ee2cb1"
  },
  {
   "metadata": {},
   "cell_type": "markdown",
   "source": "## Libraries",
   "id": "100ac17a9656fbfd"
  },
  {
   "metadata": {
    "ExecuteTime": {
     "end_time": "2024-10-08T14:36:15.596386Z",
     "start_time": "2024-10-08T14:36:15.586276Z"
    }
   },
   "cell_type": "code",
   "source": [
    "import numpy as np\n",
    "import matplotlib.pyplot as plt\n",
    "import random"
   ],
   "id": "65dc866169d7ef70",
   "outputs": [],
   "execution_count": 26
  },
  {
   "metadata": {},
   "cell_type": "markdown",
   "source": "## Data",
   "id": "2f29285b0251922d"
  },
  {
   "metadata": {
    "collapsed": true,
    "ExecuteTime": {
     "end_time": "2024-10-08T14:36:16.510318Z",
     "start_time": "2024-10-08T14:36:16.507768Z"
    }
   },
   "cell_type": "code",
   "source": [
    "def get_column(data, index):\n",
    "    return [row[index] for row in data]"
   ],
   "id": "initial_id",
   "outputs": [],
   "execution_count": 27
  },
  {
   "metadata": {
    "ExecuteTime": {
     "end_time": "2024-10-08T14:36:17.700228Z",
     "start_time": "2024-10-08T14:36:17.688511Z"
    }
   },
   "cell_type": "code",
   "source": [
    "def prepare_data(file_name_dataset):\n",
    "    data = np.genfromtxt(file_name_dataset, delimiter=',', skip_header=1).tolist()\n",
    "    \n",
    "    # Get tv (index = 0)\n",
    "    tv_data = get_column(data, 0)\n",
    "    \n",
    "    # Get radio (index = 1)\n",
    "    radio_data = get_column(data, 1)\n",
    "    \n",
    "    # Get newspaper (index = 2)\n",
    "    newspaper_data = get_column(data, 2)\n",
    "    \n",
    "    # Get sales (index = 3)\n",
    "    sales_data = get_column(data, 3)\n",
    "    \n",
    "    # Building X input and y output for training\n",
    "    X = [tv_data, radio_data, newspaper_data]\n",
    "    y = sales_data\n",
    "    \n",
    "    return X, y"
   ],
   "id": "eb0e5fa11b4ba4ae",
   "outputs": [],
   "execution_count": 28
  },
  {
   "metadata": {
    "ExecuteTime": {
     "end_time": "2024-10-08T14:36:25.645504Z",
     "start_time": "2024-10-08T14:36:25.637726Z"
    }
   },
   "cell_type": "code",
   "source": [
    "X, y = prepare_data('data/Advertising.csv')\n",
    "lst = [sum(X[0][:5]), sum(X[1][:5]), sum(X[2][:5]), sum(y[:5])]\n",
    "print(lst)"
   ],
   "id": "f43686b414e2d5a1",
   "outputs": [
    {
     "name": "stdout",
     "output_type": "stream",
     "text": [
      "[624.1, 175.10000000000002, 300.5, 78.9]\n"
     ]
    }
   ],
   "execution_count": 29
  },
  {
   "metadata": {},
   "cell_type": "markdown",
   "source": "## Model",
   "id": "d1872b4be4c48e6a"
  },
  {
   "metadata": {},
   "cell_type": "markdown",
   "source": "### Initialize parameters",
   "id": "f1f9e478e2283ac2"
  },
  {
   "metadata": {},
   "cell_type": "code",
   "outputs": [],
   "execution_count": null,
   "source": [
    "def initialize_parameters():\n",
    "    w1 = random.gauss(mu=0.0, sigma=0.01)\n",
    "    w2 = random.gauss(mu=0.0, sigma=0.01)\n",
    "    w3 = random.gauss(mu=0.0, sigma=0.01)\n",
    "    b = 0\n",
    "    return w1, w2, w3, b"
   ],
   "id": "615cf492ac5d0fda"
  },
  {
   "metadata": {
    "ExecuteTime": {
     "end_time": "2024-10-08T14:35:42.284369Z",
     "start_time": "2024-10-08T14:35:42.270801Z"
    }
   },
   "cell_type": "code",
   "source": [
    "def initialize_parameters():\n",
    "    w1, w2, w3, b = (0.016992259082509283, 0.0070783670518262355, -0.002307860847821344, 0)\n",
    "    return w1, w2, w3, b"
   ],
   "id": "1b8bca94b14a3337",
   "outputs": [],
   "execution_count": 23
  },
  {
   "metadata": {},
   "cell_type": "markdown",
   "source": "### Prediction",
   "id": "49ec9d57e2d0dcb4"
  },
  {
   "metadata": {
    "ExecuteTime": {
     "end_time": "2024-10-08T14:25:04.193892Z",
     "start_time": "2024-10-08T14:25:04.179539Z"
    }
   },
   "cell_type": "code",
   "source": [
    "def predict(x1, x2, x3, w1, w2, w3, b):\n",
    "    return w1*x1 + w2*x2 + w3*x3 + b"
   ],
   "id": "58be0c08079cf41d",
   "outputs": [],
   "execution_count": 10
  },
  {
   "metadata": {
    "ExecuteTime": {
     "end_time": "2024-10-08T14:25:25.693296Z",
     "start_time": "2024-10-08T14:25:25.679040Z"
    }
   },
   "cell_type": "code",
   "source": [
    "y = predict(1, 1, 1, 0, 0.5, 0, 0.5)\n",
    "print(y)"
   ],
   "id": "eac8d2118b476a52",
   "outputs": [
    {
     "name": "stdout",
     "output_type": "stream",
     "text": [
      "1.0\n"
     ]
    }
   ],
   "execution_count": 11
  },
  {
   "metadata": {},
   "cell_type": "markdown",
   "source": "### Loss function",
   "id": "1a3057c210a1d832"
  },
  {
   "metadata": {
    "ExecuteTime": {
     "end_time": "2024-10-08T14:49:47.983693Z",
     "start_time": "2024-10-08T14:49:47.971069Z"
    }
   },
   "cell_type": "code",
   "source": [
    "def compute_loss_mse(y_hat, y):\n",
    "    return (y_hat - y)**2"
   ],
   "id": "e2475533b23609bd",
   "outputs": [],
   "execution_count": 63
  },
  {
   "metadata": {
    "ExecuteTime": {
     "end_time": "2024-10-08T14:49:48.742142Z",
     "start_time": "2024-10-08T14:49:48.739417Z"
    }
   },
   "cell_type": "code",
   "source": [
    "def compute_loss_mae(y_hat, y):\n",
    "    return abs(y_hat - y)"
   ],
   "id": "3a4ac7c8ed5a9798",
   "outputs": [],
   "execution_count": 64
  },
  {
   "metadata": {
    "ExecuteTime": {
     "end_time": "2024-10-08T14:49:49.536757Z",
     "start_time": "2024-10-08T14:49:49.518608Z"
    }
   },
   "cell_type": "code",
   "source": [
    "l = compute_loss_mse(1, 0.5)\n",
    "print(l)"
   ],
   "id": "d6b52c1ad19860d6",
   "outputs": [
    {
     "name": "stdout",
     "output_type": "stream",
     "text": [
      "0.25\n"
     ]
    }
   ],
   "execution_count": 65
  },
  {
   "metadata": {
    "ExecuteTime": {
     "end_time": "2024-10-08T14:49:50.375035Z",
     "start_time": "2024-10-08T14:49:50.368961Z"
    }
   },
   "cell_type": "code",
   "source": [
    "l = compute_loss_mae(1, 0.5)\n",
    "print(l)"
   ],
   "id": "ac5d3abebf15eae4",
   "outputs": [
    {
     "name": "stdout",
     "output_type": "stream",
     "text": [
      "0.5\n"
     ]
    }
   ],
   "execution_count": 66
  },
  {
   "metadata": {},
   "cell_type": "markdown",
   "source": "### Gradient",
   "id": "4ba7abfd8447127e"
  },
  {
   "metadata": {
    "ExecuteTime": {
     "end_time": "2024-10-08T14:37:43.429483Z",
     "start_time": "2024-10-08T14:37:43.424128Z"
    }
   },
   "cell_type": "code",
   "source": [
    "def compute_gradient_wi(xi, y, y_hat):\n",
    "    return 2*xi*(y_hat - y)\n",
    "\n",
    "def compute_gradient_b(y, y_hat):\n",
    "    return 2*(y_hat - y)"
   ],
   "id": "69589efff69b99cd",
   "outputs": [],
   "execution_count": 34
  },
  {
   "metadata": {
    "ExecuteTime": {
     "end_time": "2024-10-08T14:37:44.140969Z",
     "start_time": "2024-10-08T14:37:44.137673Z"
    }
   },
   "cell_type": "code",
   "source": [
    "# MSE loss\n",
    "g_wi = compute_gradient_wi(1, 1, 0.5)\n",
    "print(g_wi)"
   ],
   "id": "36ee67cfa9e9c312",
   "outputs": [
    {
     "name": "stdout",
     "output_type": "stream",
     "text": [
      "-1.0\n"
     ]
    }
   ],
   "execution_count": 35
  },
  {
   "metadata": {
    "ExecuteTime": {
     "end_time": "2024-10-08T14:37:45.003378Z",
     "start_time": "2024-10-08T14:37:45.000261Z"
    }
   },
   "cell_type": "code",
   "source": [
    "g_b = compute_gradient_b(2, 0.5)\n",
    "print(g_b)"
   ],
   "id": "d1511a60c660101c",
   "outputs": [
    {
     "name": "stdout",
     "output_type": "stream",
     "text": [
      "-3.0\n"
     ]
    }
   ],
   "execution_count": 36
  },
  {
   "metadata": {},
   "cell_type": "markdown",
   "source": "### Update parameters",
   "id": "af68a2d5fac01958"
  },
  {
   "metadata": {
    "ExecuteTime": {
     "end_time": "2024-10-08T14:37:46.102586Z",
     "start_time": "2024-10-08T14:37:46.095894Z"
    }
   },
   "cell_type": "code",
   "source": [
    "def update_weight_wi(wi, grad_wi, learning_rate):\n",
    "    return wi - learning_rate*grad_wi\n",
    "\n",
    "def update_weight_b(b, grad_b, learning_rate):\n",
    "    return b - learning_rate*grad_b"
   ],
   "id": "6b5d72ae589aa7bd",
   "outputs": [],
   "execution_count": 37
  },
  {
   "metadata": {
    "ExecuteTime": {
     "end_time": "2024-10-08T14:37:47.221135Z",
     "start_time": "2024-10-08T14:37:47.218274Z"
    }
   },
   "cell_type": "code",
   "source": [
    "after_wi = update_weight_wi(1, -0.5, 1e-5)\n",
    "print(after_wi)"
   ],
   "id": "57aea4c9e83366a6",
   "outputs": [
    {
     "name": "stdout",
     "output_type": "stream",
     "text": [
      "1.000005\n"
     ]
    }
   ],
   "execution_count": 38
  },
  {
   "metadata": {
    "ExecuteTime": {
     "end_time": "2024-10-08T14:37:48.133202Z",
     "start_time": "2024-10-08T14:37:48.117161Z"
    }
   },
   "cell_type": "code",
   "source": [
    "after_b = update_weight_b(0.5, -1.0, 1e-5)\n",
    "print(after_b)"
   ],
   "id": "277934fd81a4193b",
   "outputs": [
    {
     "name": "stdout",
     "output_type": "stream",
     "text": [
      "0.50001\n"
     ]
    }
   ],
   "execution_count": 39
  },
  {
   "metadata": {},
   "cell_type": "markdown",
   "source": "### Implementing the model",
   "id": "f16ee5cc952bc05d"
  },
  {
   "metadata": {
    "ExecuteTime": {
     "end_time": "2024-10-08T14:52:16.710686Z",
     "start_time": "2024-10-08T14:52:16.701240Z"
    }
   },
   "cell_type": "code",
   "source": [
    "def implement_linear_regression(X_data, y_data, epoch_max=50, lr=1e-5):\n",
    "    losses = []\n",
    "    \n",
    "    w1, w2, w3, b = initialize_parameters()\n",
    "    \n",
    "    N = len(y_data)\n",
    "    for epoch in range(epoch_max):\n",
    "        \n",
    "        loss_total = 0.0\n",
    "        dw1_total = 0.0\n",
    "        dw2_total = 0.0\n",
    "        dw3_total = 0.0\n",
    "        db_total = 0.0\n",
    "        \n",
    "        for i in range(N):\n",
    "            x1, x2, x3 = X_data[0][i], X_data[1][i], X_data[2][i]\n",
    "            y = y_data[i]\n",
    "            \n",
    "            # Forward pass\n",
    "            y_hat = predict(x1, x2, x3, w1, w2, w3, b)\n",
    "            \n",
    "            # Compute loss\n",
    "            loss = compute_loss_mse(y_hat, y)\n",
    "            \n",
    "            # Compute gradients\n",
    "            grad_w1 = compute_gradient_wi(x1, y, y_hat)\n",
    "            grad_w2 = compute_gradient_wi(x2, y, y_hat)\n",
    "            grad_w3 = compute_gradient_wi(x3, y, y_hat)\n",
    "            grad_b = compute_gradient_b(y, y_hat)\n",
    "            \n",
    "            # Accumulate gradient\n",
    "            dw1_total += grad_w1\n",
    "            dw2_total += grad_w2\n",
    "            dw3_total += grad_w3\n",
    "            db_total += grad_b\n",
    "            \n",
    "            # Accumulate loss\n",
    "            loss_total += loss\n",
    "            \n",
    "        # Update parameters\n",
    "        w1 = update_weight_wi(w1, dw1_total/N, lr)\n",
    "        w2 = update_weight_wi(w2, dw2_total/N, lr)\n",
    "        w3 = update_weight_wi(w3, dw3_total/N, lr)\n",
    "        b = update_weight_b(b, db_total/N, lr)\n",
    "            \n",
    "            \n",
    "        losses.append(loss_total/N)\n",
    "            \n",
    "    return w1, w2, w3, b, losses"
   ],
   "id": "914e737b4f778db0",
   "outputs": [],
   "execution_count": 73
  },
  {
   "metadata": {},
   "cell_type": "markdown",
   "source": "## Train",
   "id": "bcd03a468e7b600a"
  },
  {
   "metadata": {
    "ExecuteTime": {
     "end_time": "2024-10-08T14:52:19.063853Z",
     "start_time": "2024-10-08T14:52:18.859667Z"
    }
   },
   "cell_type": "code",
   "source": [
    "(w1, w2, w3, b, losses) = implement_linear_regression(X, y, epoch_max=1000)\n",
    "\n",
    "plt.plot(losses)\n",
    "plt.xlabel('Iterations')\n",
    "plt.ylabel('Loss')\n",
    "plt.show()"
   ],
   "id": "7924c1aae446b8d6",
   "outputs": [
    {
     "data": {
      "text/plain": [
       "<Figure size 640x480 with 1 Axes>"
      ],
      "image/png": "[encoded data removed]"
     },
     "metadata": {},
     "output_type": "display_data"
    }
   ],
   "execution_count": 74
  },
  {
   "metadata": {
    "ExecuteTime": {
     "end_time": "2024-10-08T14:52:24.326279Z",
     "start_time": "2024-10-08T14:52:24.321231Z"
    }
   },
   "cell_type": "code",
   "source": "print(w1, w2, w3)",
   "id": "f6bb97f905f8bc07",
   "outputs": [
    {
     "name": "stdout",
     "output_type": "stream",
     "text": [
      "0.06710990754044266 0.15756173831487585 0.029619799386084403\n"
     ]
    }
   ],
   "execution_count": 75
  },
  {
   "metadata": {
    "ExecuteTime": {
     "end_time": "2024-10-08T14:51:56.261258Z",
     "start_time": "2024-10-08T14:51:56.236862Z"
    }
   },
   "cell_type": "code",
   "source": [
    "(w1, w2, w3, b, losses) = implement_linear_regression(X, y)\n",
    "print(w1, w2, w3)"
   ],
   "id": "cec16741066633bc",
   "outputs": [
    {
     "name": "stdout",
     "output_type": "stream",
     "text": [
      "0.0777391352775665 0.05644769904625777 0.04135488482198375\n"
     ]
    }
   ],
   "execution_count": 71
  },
  {
   "metadata": {
    "ExecuteTime": {
     "end_time": "2024-10-08T14:43:06.979384Z",
     "start_time": "2024-10-08T14:43:06.947489Z"
    }
   },
   "cell_type": "code",
   "source": [
    "tv = 19.2\n",
    "radio = 35.9\n",
    "newspaper = 51.3\n",
    "\n",
    "(w1, w2, w3, b, losses) = implement_linear_regression(X, y, epoch_max=50, lr=1e-5)\n",
    "\n",
    "sales = predict(tv, radio, newspaper, w1, w2, w3, b)\n",
    "print(f'predicted sales is {sales}')"
   ],
   "id": "d199eb9bab777d2",
   "outputs": [
    {
     "name": "stdout",
     "output_type": "stream",
     "text": [
      "predicted sales is 8.176413319549823\n"
     ]
    }
   ],
   "execution_count": 55
  }
 ],
 "metadata": {
  "kernelspec": {
   "display_name": "Python 3",
   "language": "python",
   "name": "python3"
  },
  "language_info": {
   "codemirror_mode": {
    "name": "ipython",
    "version": 2
   },
   "file_extension": ".py",
   "mimetype": "text/x-python",
   "name": "python",
   "nbconvert_exporter": "python",
   "pygments_lexer": "ipython2",
   "version": "2.7.6"
  }
 },
 "nbformat": 4,
 "nbformat_minor": 5
}
